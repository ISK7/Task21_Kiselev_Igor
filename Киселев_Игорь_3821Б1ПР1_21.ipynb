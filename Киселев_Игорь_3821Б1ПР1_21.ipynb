{
 "cells": [
  {
   "cell_type": "code",
   "execution_count": 45,
   "id": "b1136192",
   "metadata": {},
   "outputs": [
    {
     "name": "stdout",
     "output_type": "stream",
     "text": [
      "21 задача заключается в построении орбиты небесного тела, а также вычисления переменной E при прочих равных при помощи 3-х способов.\n",
      "\n",
      "Использованные библиотеки:\n"
     ]
    }
   ],
   "source": [
    "from IPython.display import Math\n",
    "from IPython.display import Latex\n",
    "from IPython.display import display\n"
   ]
  },
  {
   "cell_type": "code",
   "execution_count": 2,
   "id": "a702b2ff",
   "metadata": {},
   "outputs": [],
   "source": [
    "import numpy as np\n",
    "import scipy as sp\n",
    "import mpmath as mp\n",
    "import time as ti\n",
    "from scipy import optimize\n",
    "import matplotlib.pyplot as plt\n",
    "from IPython.display import display, Math"
   ]
  },
  {
   "cell_type": "markdown",
   "metadata": {},
   "source": [
    "Орбита небесного тела представляет собой эллипс, в одной из вершин которого находится Солнце или другой центр системы.\n\n",
    "Эксцентриситет известен (равен 0.1), значит, орбиту уже можно изобразить, a (большую полуось) можно взять произвольной."
   ]
  },
  {
   "cell_type": "code",
   "execution_count": 18,
   "id": "cffa8973",
   "metadata": {},
   "outputs": [
    {
     "data": {
      "text/plain": [
       "[<matplotlib.lines.Line2D at 0x1f3001cd370>]"
      ]
     },
     "execution_count": 18,
     "metadata": {},
     "output_type": "execute_result"
    },
    {
     "data": {
      "image/png": "[encoded data removed]",
      "text/plain": [
       "<Figure size 432x288 with 1 Axes>"
      ]
     },
     "metadata": {
      "needs_background": "light"
     },
     "output_type": "display_data"
    }
   ],
   "source": [
    "si = 350  \n",
    "a = 100    \n",
    "e = 0.1     \n",
    "b = np.sqrt(a**2 - (a*e)**2)    \n",
    "c = np.sqrt(a**2 - b**2)    \n",
    "x = np.linspace(-a + c, a + c, si)    \n",
    "y = np.sqrt((b**2)*(1-((x-c)**2)/(a**2)))   \n",
    "plt.plot(x, y, color='tab:red')   \n",
    "plt.plot(x, -1*y, color='tab:red') \n",
    "xs = np.linspace(-1, 1, a)    \n",
    "ys = np.sqrt(1-xs**2)   \n",
    "plt.plot(xs, ys, color='tab:orange',linewidth = 5)    \n",
    "plt.plot(xs, -1*ys, color='tab:orange',linewidth = 5)"
   ]
  },
  {
   "cell_type": "code",
   "execution_count": 19,
   "id": "c15a2f64",
   "metadata": {},
   "outputs": [
    {
     "name": "stdout",
     "output_type": "stream",
     "text": [
      "Оранжевая точка - светило, или другой центр системы\n",
      "Рисунок не идеальный, т. к. немного сплющен, но по координатам верный\n"
     ]
    }
   ],
   "source": [
    "print(\"Оранжевая точка - светило, или другой центр системы\\nРисунок не идеальный, т. к. немного сплющен, но по координатам верный\")"
   ]
  },
  {
   "cell_type": "code",
   "execution_count": 20,
   "id": "bd35c141",
   "metadata": {},
   "outputs": [
    {
     "name": "stdout",
     "output_type": "stream",
     "text": [
      "Теперь приступим к вычислению Е. Сначала используем стандартную ф-ю, реализующую алгоритм Брента\n"
     ]
    }
   ],
   "source": [
    "print(\"Теперь приступим к вычислению Е. Сначала используем стандартную ф-ю, реализующую алгоритм Брента\")"
   ]
  },
  {
   "cell_type": "code",
   "execution_count": 23,
   "id": "8abaf5b8",
   "metadata": {},
   "outputs": [
    {
     "name": "stdout",
     "output_type": "stream",
     "text": [
      "Результат: 24.820357182542907\n",
      "Время:0.0\n"
     ]
    }
   ],
   "source": [
    "M = 24.851090\n",
    "def fE(x):\n",
    "    return x - e*np.sin(x) - M\n",
    "begin = ti.time()*1000\n",
    "Eb = sp.optimize.brentq(fE,-1,100)\n",
    "end = ti.time()*1000\n",
    "print(\"Результат: \" + str(Eb) + \"\\nВремя: \" + str(end-begin))"
   ]
  },
  {
   "cell_type": "markdown",
   "metadata": {},
   "source": [
    "Теперь вычислим по формуле из задачи \n",
    "\n",
    "$\\displaystyle E = \\sum_{m=1}^{\\infty} \\frac{J_m (m\\varepsilon) \\sin(mM)}{m}$\n",
    "\n",
    "Где Jm(x) - функция Бесселя 1-го рода порядка m."
   ]
  },
  {
   "cell_type": "code",
   "execution_count": 47,
   "id": "51287b88",
   "metadata": {},
   "outputs": [
    {
     "name": "stdout",
     "output_type": "stream",
     "text": [
      "Результат: 24.8203571825429\n",
      "Время: 12.73046875\n"
     ]
    }
   ],
   "source": [
    "m = np.arange(1, a + 1, dtype=float)\n",
    "E = []\n",
    "begin = ti.time()*1000\n",
    "for i in range(0,a):\n",
    "    E.append((m[i]**-1)*mp.besselj(m[i], m[i]*e)*np.sin(m[i]*M))\n",
    "Es = M + 2*sum(E)\n",
    "end = ti.time()*1000\n",
    "print(\"Результат: \" + str(Es) + \"\\nВремя: \" + str(end-begin))"
   ]
  },
  {
   "cell_type": "markdown",
   "metadata": {},
   "source": [
    "Теперь будем сами вычислять Jm по формуле \n",
    "\n",
    "$\\displaystyle J_m(x) = \\sum_{n=0}^{\\infty} \\frac{(-1)^n (x/2)^{2n+m}}{n!(m+n)!}$\n",
    "\n",
    "Т. к. факториалы и степень очень большие, возникают ошибки при конвертировании их во float, поэтому приходится прибегать к таким мерам"
   ]
  },
  {
   "cell_type": "code",
   "execution_count": 38,
   "id": "92fee883",
   "metadata": {},
   "outputs": [
    {
     "name": "stdout",
     "output_type": "stream",
     "text": [
      "Результат: 24.820357182542907\n",
      "Время: 699.341552734375\n"
     ]
    }
   ],
   "source": [
    "def HelpFun(n,m,y):\n",
    "    ans = 1.0\n",
    "    for i in range(1,n+1):\n",
    "        ans *= y / i**2\n",
    "    for i in range(1,m+1):\n",
    "        ans *= y/(i+n)\n",
    "    for i in range(1,n+1):\n",
    "        ans *= y\n",
    "    return ans\n",
    "\n",
    "def J2(j,x):\n",
    "    j = int(j)\n",
    "    ansar = []\n",
    "    for i in range(0,a):\n",
    "         ansar.append(((-1)**i)*HelpFun(i,j,x/2))\n",
    "    return sum(ansar)\n",
    "\n",
    "E = []\n",
    "begin = ti.time()*1000\n",
    "for i in range(0,a):\n",
    "    E.append((m[i]**-1)*J2(m[i], m[i]*e)*np.sin(m[i]*M))\n",
    "Ej = M + 2*sum(E)\n",
    "end = ti.time()*1000\n",
    "print(\"Результат: \" + str(Ej) + \"\\nВремя: \" + str(end-begin))"
   ]
  },
  {
   "cell_type": "markdown",
   "metadata": {},
   "source": [
    "Как мы видим, все методы выдают совпадающий результат, за исключением того, что второе значение менее точно на 2 порядка, ~на 13% менее точно. Однако, третий метод показал себя как самый долгий, второй сильно превосходит его, а время работы первого записать не удалось, что может быть следствием его высокой эффективности."
   ]
  }
 ],
 "metadata": {
  "kernelspec": {
   "display_name": "Python 3 (ipykernel)",
   "language": "python",
   "name": "python3"
  },
  "language_info": {
   "codemirror_mode": {
    "name": "ipython",
    "version": 3
   },
   "file_extension": ".py",
   "mimetype": "text/x-python",
   "name": "python",
   "nbconvert_exporter": "python",
   "pygments_lexer": "ipython3",
   "version": "3.9.7"
  }
 },
 "nbformat": 4,
 "nbformat_minor": 5
}
